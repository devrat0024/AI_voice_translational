{
  "nbformat": 4,
  "nbformat_minor": 0,
  "metadata": {
    "colab": {
      "provenance": []
    },
    "kernelspec": {
      "name": "python3",
      "display_name": "Python 3"
    },
    "language_info": {
      "name": "python"
    }
  },
  "cells": [
    {
      "cell_type": "code",
      "execution_count": 1,
      "metadata": {
        "colab": {
          "base_uri": "https://localhost:8080/"
        },
        "id": "CRcAoDDREb8L",
        "outputId": "cfd2517a-0e93-4adc-c5ad-b976595e01f9"
      },
      "outputs": [
        {
          "output_type": "stream",
          "name": "stdout",
          "text": [
            "\u001b[?25l     \u001b[90m━━━━━━━━━━━━━━━━━━━━━━━━━━━━━━━━━━━━━━━━\u001b[0m \u001b[32m0.0/117.0 kB\u001b[0m \u001b[31m?\u001b[0m eta \u001b[36m-:--:--\u001b[0m\r\u001b[2K     \u001b[90m━━━━━━━━━━━━━━━━━━━━━━━━━━━━━━━━━━━━━━━━\u001b[0m \u001b[32m117.0/117.0 kB\u001b[0m \u001b[31m5.5 MB/s\u001b[0m eta \u001b[36m0:00:00\u001b[0m\n",
            "\u001b[?25h  Preparing metadata (setup.py) ... \u001b[?25l\u001b[?25hdone\n",
            "  Preparing metadata (setup.py) ... \u001b[?25l\u001b[?25hdone\n",
            "\u001b[2K     \u001b[90m━━━━━━━━━━━━━━━━━━━━━━━━━━━━━━━━━━━━━━━━\u001b[0m \u001b[32m59.6/59.6 kB\u001b[0m \u001b[31m3.7 MB/s\u001b[0m eta \u001b[36m0:00:00\u001b[0m\n",
            "\u001b[?25h  Preparing metadata (setup.py) ... \u001b[?25l\u001b[?25hdone\n",
            "\u001b[2K   \u001b[90m━━━━━━━━━━━━━━━━━━━━━━━━━━━━━━━━━━━━━━━━\u001b[0m \u001b[32m363.4/363.4 MB\u001b[0m \u001b[31m3.6 MB/s\u001b[0m eta \u001b[36m0:00:00\u001b[0m\n",
            "\u001b[2K   \u001b[90m━━━━━━━━━━━━━━━━━━━━━━━━━━━━━━━━━━━━━━━━\u001b[0m \u001b[32m13.8/13.8 MB\u001b[0m \u001b[31m54.5 MB/s\u001b[0m eta \u001b[36m0:00:00\u001b[0m\n",
            "\u001b[2K   \u001b[90m━━━━━━━━━━━━━━━━━━━━━━━━━━━━━━━━━━━━━━━━\u001b[0m \u001b[32m24.6/24.6 MB\u001b[0m \u001b[31m40.6 MB/s\u001b[0m eta \u001b[36m0:00:00\u001b[0m\n",
            "\u001b[2K   \u001b[90m━━━━━━━━━━━━━━━━━━━━━━━━━━━━━━━━━━━━━━━━\u001b[0m \u001b[32m883.7/883.7 kB\u001b[0m \u001b[31m32.2 MB/s\u001b[0m eta \u001b[36m0:00:00\u001b[0m\n",
            "\u001b[2K   \u001b[90m━━━━━━━━━━━━━━━━━━━━━━━━━━━━━━━━━━━━━━━━\u001b[0m \u001b[32m664.8/664.8 MB\u001b[0m \u001b[31m2.5 MB/s\u001b[0m eta \u001b[36m0:00:00\u001b[0m\n",
            "\u001b[2K   \u001b[90m━━━━━━━━━━━━━━━━━━━━━━━━━━━━━━━━━━━━━━━━\u001b[0m \u001b[32m211.5/211.5 MB\u001b[0m \u001b[31m7.4 MB/s\u001b[0m eta \u001b[36m0:00:00\u001b[0m\n",
            "\u001b[2K   \u001b[90m━━━━━━━━━━━━━━━━━━━━━━━━━━━━━━━━━━━━━━━━\u001b[0m \u001b[32m56.3/56.3 MB\u001b[0m \u001b[31m14.9 MB/s\u001b[0m eta \u001b[36m0:00:00\u001b[0m\n",
            "\u001b[2K   \u001b[90m━━━━━━━━━━━━━━━━━━━━━━━━━━━━━━━━━━━━━━━━\u001b[0m \u001b[32m127.9/127.9 MB\u001b[0m \u001b[31m7.5 MB/s\u001b[0m eta \u001b[36m0:00:00\u001b[0m\n",
            "\u001b[2K   \u001b[90m━━━━━━━━━━━━━━━━━━━━━━━━━━━━━━━━━━━━━━━━\u001b[0m \u001b[32m207.5/207.5 MB\u001b[0m \u001b[31m5.8 MB/s\u001b[0m eta \u001b[36m0:00:00\u001b[0m\n",
            "\u001b[2K   \u001b[90m━━━━━━━━━━━━━━━━━━━━━━━━━━━━━━━━━━━━━━━━\u001b[0m \u001b[32m21.1/21.1 MB\u001b[0m \u001b[31m57.9 MB/s\u001b[0m eta \u001b[36m0:00:00\u001b[0m\n",
            "\u001b[2K   \u001b[90m━━━━━━━━━━━━━━━━━━━━━━━━━━━━━━━━━━━━━━━━\u001b[0m \u001b[32m898.7/898.7 kB\u001b[0m \u001b[31m38.2 MB/s\u001b[0m eta \u001b[36m0:00:00\u001b[0m\n",
            "\u001b[2K   \u001b[90m━━━━━━━━━━━━━━━━━━━━━━━━━━━━━━━━━━━━━━━━\u001b[0m \u001b[32m95.2/95.2 kB\u001b[0m \u001b[31m7.2 MB/s\u001b[0m eta \u001b[36m0:00:00\u001b[0m\n",
            "\u001b[2K   \u001b[90m━━━━━━━━━━━━━━━━━━━━━━━━━━━━━━━━━━━━━━━━\u001b[0m \u001b[32m62.3/62.3 kB\u001b[0m \u001b[31m4.2 MB/s\u001b[0m eta \u001b[36m0:00:00\u001b[0m\n",
            "\u001b[2K   \u001b[90m━━━━━━━━━━━━━━━━━━━━━━━━━━━━━━━━━━━━━━━━\u001b[0m \u001b[32m818.9/818.9 kB\u001b[0m \u001b[31m33.2 MB/s\u001b[0m eta \u001b[36m0:00:00\u001b[0m\n",
            "\u001b[2K   \u001b[90m━━━━━━━━━━━━━━━━━━━━━━━━━━━━━━━━━━━━━━━━\u001b[0m \u001b[32m79.5/79.5 kB\u001b[0m \u001b[31m5.8 MB/s\u001b[0m eta \u001b[36m0:00:00\u001b[0m\n",
            "\u001b[2K   \u001b[90m━━━━━━━━━━━━━━━━━━━━━━━━━━━━━━━━━━━━━━━━\u001b[0m \u001b[32m58.5/58.5 kB\u001b[0m \u001b[31m4.4 MB/s\u001b[0m eta \u001b[36m0:00:00\u001b[0m\n",
            "\u001b[2K   \u001b[90m━━━━━━━━━━━━━━━━━━━━━━━━━━━━━━━━━━━━━━━━\u001b[0m \u001b[32m48.1/48.1 kB\u001b[0m \u001b[31m3.1 MB/s\u001b[0m eta \u001b[36m0:00:00\u001b[0m\n",
            "\u001b[2K   \u001b[90m━━━━━━━━━━━━━━━━━━━━━━━━━━━━━━━━━━━━━━━━\u001b[0m \u001b[32m51.4/51.4 kB\u001b[0m \u001b[31m3.4 MB/s\u001b[0m eta \u001b[36m0:00:00\u001b[0m\n",
            "\u001b[2K   \u001b[90m━━━━━━━━━━━━━━━━━━━━━━━━━━━━━━━━━━━━━━━━\u001b[0m \u001b[32m125.9/125.9 kB\u001b[0m \u001b[31m9.1 MB/s\u001b[0m eta \u001b[36m0:00:00\u001b[0m\n",
            "\u001b[2K   \u001b[90m━━━━━━━━━━━━━━━━━━━━━━━━━━━━━━━━━━━━━━━━\u001b[0m \u001b[32m824.8/824.8 kB\u001b[0m \u001b[31m35.2 MB/s\u001b[0m eta \u001b[36m0:00:00\u001b[0m\n",
            "\u001b[2K   \u001b[90m━━━━━━━━━━━━━━━━━━━━━━━━━━━━━━━━━━━━━━━━\u001b[0m \u001b[32m72.0/72.0 kB\u001b[0m \u001b[31m5.4 MB/s\u001b[0m eta \u001b[36m0:00:00\u001b[0m\n",
            "\u001b[2K   \u001b[90m━━━━━━━━━━━━━━━━━━━━━━━━━━━━━━━━━━━━━━━━\u001b[0m \u001b[32m101.7/101.7 kB\u001b[0m \u001b[31m6.7 MB/s\u001b[0m eta \u001b[36m0:00:00\u001b[0m\n",
            "\u001b[2K   \u001b[90m━━━━━━━━━━━━━━━━━━━━━━━━━━━━━━━━━━━━━━━━\u001b[0m \u001b[32m48.5/48.5 kB\u001b[0m \u001b[31m3.5 MB/s\u001b[0m eta \u001b[36m0:00:00\u001b[0m\n",
            "\u001b[2K   \u001b[90m━━━━━━━━━━━━━━━━━━━━━━━━━━━━━━━━━━━━━━━━\u001b[0m \u001b[32m960.9/960.9 kB\u001b[0m \u001b[31m41.9 MB/s\u001b[0m eta \u001b[36m0:00:00\u001b[0m\n",
            "\u001b[2K   \u001b[90m━━━━━━━━━━━━━━━━━━━━━━━━━━━━━━━━━━━━━━━━\u001b[0m \u001b[32m383.6/383.6 kB\u001b[0m \u001b[31m21.4 MB/s\u001b[0m eta \u001b[36m0:00:00\u001b[0m\n",
            "\u001b[2K   \u001b[90m━━━━━━━━━━━━━━━━━━━━━━━━━━━━━━━━━━━━━━━━\u001b[0m \u001b[32m823.0/823.0 kB\u001b[0m \u001b[31m38.4 MB/s\u001b[0m eta \u001b[36m0:00:00\u001b[0m\n",
            "\u001b[2K   \u001b[90m━━━━━━━━━━━━━━━━━━━━━━━━━━━━━━━━━━━━━━━━\u001b[0m \u001b[32m231.9/231.9 kB\u001b[0m \u001b[31m14.6 MB/s\u001b[0m eta \u001b[36m0:00:00\u001b[0m\n",
            "\u001b[2K   \u001b[90m━━━━━━━━━━━━━━━━━━━━━━━━━━━━━━━━━━━━━━━━\u001b[0m \u001b[32m117.7/117.7 kB\u001b[0m \u001b[31m9.2 MB/s\u001b[0m eta \u001b[36m0:00:00\u001b[0m\n",
            "\u001b[2K   \u001b[90m━━━━━━━━━━━━━━━━━━━━━━━━━━━━━━━━━━━━━━━━\u001b[0m \u001b[32m739.1/739.1 kB\u001b[0m \u001b[31m44.6 MB/s\u001b[0m eta \u001b[36m0:00:00\u001b[0m\n",
            "\u001b[?25h  Building wheel for antlr4-python3-runtime (setup.py) ... \u001b[?25l\u001b[?25hdone\n",
            "  Building wheel for docopt (setup.py) ... \u001b[?25l\u001b[?25hdone\n",
            "  Building wheel for julius (setup.py) ... \u001b[?25l\u001b[?25hdone\n",
            "Reading package lists... Done\n",
            "Building dependency tree... Done\n",
            "Reading state information... Done\n",
            "ffmpeg is already the newest version (7:4.4.2-0ubuntu0.22.04.1).\n",
            "0 upgraded, 0 newly installed, 0 to remove and 29 not upgraded.\n"
          ]
        }
      ],
      "source": [
        "!pip install -q torch torchaudio transformers ffmpeg-python pydub pyannote.audio fastapi uvicorn python-multipart websockets\n",
        "!sudo apt-get install -y ffmpeg"
      ]
    },
    {
      "cell_type": "code",
      "source": [
        "from fastapi import FastAPI, WebSocket\n",
        "from fastapi.middleware.cors import CORSMiddleware\n",
        "import uvicorn\n",
        "import asyncio\n",
        "\n",
        "app = FastAPI()\n",
        "\n",
        "# Allow CORS for WebSocket\n",
        "app.add_middleware(\n",
        "    CORSMiddleware,\n",
        "    allow_origins=[\"*\"],\n",
        "    allow_credentials=True,\n",
        "    allow_methods=[\"*\"],\n",
        "    allow_headers=[\"*\"],\n",
        ")\n",
        "\n",
        "@app.websocket(\"/ws\")\n",
        "async def audio_stream(websocket: WebSocket):\n",
        "    await websocket.accept()\n",
        "    try:\n",
        "        while True:\n",
        "            audio_data = await websocket.receive_bytes()\n",
        "            # Process audio chunk here (we'll add this later)\n",
        "            print(f\"Received {len(audio_data)} bytes\")\n",
        "    except Exception as e:\n",
        "        print(f\"Error: {e}\")\n",
        "\n",
        "def run_server():\n",
        "    uvicorn.run(app, host=\"0.0.0.0\", port=8000)\n",
        "\n",
        "# Run in background\n",
        "import threading\n",
        "thread = threading.Thread(target=run_server)\n",
        "thread.start()"
      ],
      "metadata": {
        "id": "08k0IKrcFEmj"
      },
      "execution_count": 2,
      "outputs": []
    },
    {
      "cell_type": "code",
      "source": [
        "from pydub import AudioSegment\n",
        "import io\n",
        "\n",
        "def convert_to_wav(audio_bytes, sample_rate=16000):\n",
        "    \"\"\"Convert raw audio bytes to WAV format\"\"\"\n",
        "    audio = AudioSegment.from_file(io.BytesIO(audio_bytes))\n",
        "    audio = audio.set_frame_rate(sample_rate).set_channels(1)\n",
        "    wav_buffer = io.BytesIO()\n",
        "    audio.export(wav_buffer, format=\"wav\")\n",
        "    return wav_buffer.getvalue()"
      ],
      "metadata": {
        "id": "XlHoI2GfFJu7"
      },
      "execution_count": 3,
      "outputs": []
    },
    {
      "cell_type": "code",
      "source": [
        "!pip install whisper"
      ],
      "metadata": {
        "colab": {
          "base_uri": "https://localhost:8080/"
        },
        "id": "4qr92hUEFTh9",
        "outputId": "4aeaa822-05bc-4832-a9a4-ebd15b98e316"
      },
      "execution_count": 5,
      "outputs": [
        {
          "output_type": "stream",
          "name": "stdout",
          "text": [
            "Collecting whisper\n",
            "  Downloading whisper-1.1.10.tar.gz (42 kB)\n",
            "\u001b[?25l     \u001b[90m━━━━━━━━━━━━━━━━━━━━━━━━━━━━━━━━━━━━━━━━\u001b[0m \u001b[32m0.0/42.8 kB\u001b[0m \u001b[31m?\u001b[0m eta \u001b[36m-:--:--\u001b[0m\r\u001b[2K     \u001b[90m━━━━━━━━━━━━━━━━━━━━━━━━━━━━━━━━━━━━━━━━\u001b[0m \u001b[32m42.8/42.8 kB\u001b[0m \u001b[31m2.0 MB/s\u001b[0m eta \u001b[36m0:00:00\u001b[0m\n",
            "\u001b[?25h  Preparing metadata (setup.py) ... \u001b[?25l\u001b[?25hdone\n",
            "Requirement already satisfied: six in /usr/local/lib/python3.11/dist-packages (from whisper) (1.17.0)\n",
            "Building wheels for collected packages: whisper\n",
            "  Building wheel for whisper (setup.py) ... \u001b[?25l\u001b[?25hdone\n",
            "  Created wheel for whisper: filename=whisper-1.1.10-py3-none-any.whl size=41120 sha256=ed2c28567b6c8425891f63de255c127a487653ff72d7d702460e7f0b65e87a84\n",
            "  Stored in directory: /root/.cache/pip/wheels/21/65/ee/4e6672aabfa486d3341a39a04f8f87c77e5156149299b5a7d0\n",
            "Successfully built whisper\n",
            "Installing collected packages: whisper\n",
            "Successfully installed whisper-1.1.10\n"
          ]
        }
      ]
    },
    {
      "cell_type": "code",
      "source": [
        "!pip install -q openai-whisper pydub\n",
        "!apt-get install -qq ffmpeg\n",
        "\n",
        "import whisper\n",
        "from pydub import AudioSegment\n",
        "import os\n",
        "from urllib.request import urlretrieve\n",
        "from io import BytesIO\n",
        "\n",
        "# Load Whisper model\n",
        "model = whisper.load_model(\"base\")\n",
        "\n",
        "def convert_to_wav(mp3_path, wav_path):\n",
        "    \"\"\"Convert MP3 to WAV format\"\"\"\n",
        "    try:\n",
        "        audio = AudioSegment.from_mp3(mp3_path)\n",
        "        audio.export(wav_path, format=\"wav\")\n",
        "        return True\n",
        "    except Exception as e:\n",
        "        print(f\"Conversion failed: {str(e)}\")\n",
        "        return False\n",
        "\n",
        "def transcribe_audio(audio_path):\n",
        "    \"\"\"Transcribe an audio file using Whisper\"\"\"\n",
        "    try:\n",
        "        result = model.transcribe(audio_path)\n",
        "        return result[\"text\"]\n",
        "    except Exception as e:\n",
        "        print(f\"Transcription failed: {str(e)}\")\n",
        "        return None\n",
        "\n",
        "# Download sample MP3\n",
        "mp3_url = \"https://www.soundhelix.com/examples/mp3/SoundHelix-Song-1.mp3\"\n",
        "mp3_filename = \"sample.mp3\"\n",
        "wav_filename = \"converted.wav\"\n",
        "\n",
        "try:\n",
        "    print(\"Downloading sample audio...\")\n",
        "    urlretrieve(mp3_url, mp3_filename)\n",
        "\n",
        "    if os.path.exists(mp3_filename):\n",
        "        print(\"Converting to WAV...\")\n",
        "        if convert_to_wav(mp3_filename, wav_filename):\n",
        "            print(\"Transcribing audio...\")\n",
        "            transcription = transcribe_audio(wav_filename)\n",
        "\n",
        "            if transcription:\n",
        "                print(\"\\nTranscription Result:\")\n",
        "                print(transcription)\n",
        "            else:\n",
        "                print(\"Transcription returned empty result.\")\n",
        "    else:\n",
        "        print(\"Failed to download audio file.\")\n",
        "except Exception as e:\n",
        "    print(f\"Error: {str(e)}\")"
      ],
      "metadata": {
        "colab": {
          "base_uri": "https://localhost:8080/"
        },
        "id": "n-TP5_AYbAfx",
        "outputId": "5ed14a5a-6d8c-4c79-8877-3cb1ff5f0ae0"
      },
      "execution_count": 11,
      "outputs": [
        {
          "output_type": "stream",
          "name": "stdout",
          "text": [
            "Downloading sample audio...\n",
            "Converting to WAV...\n",
            "Transcribing audio...\n"
          ]
        },
        {
          "output_type": "stream",
          "name": "stderr",
          "text": [
            "/usr/local/lib/python3.11/dist-packages/whisper/transcribe.py:126: UserWarning: FP16 is not supported on CPU; using FP32 instead\n",
            "  warnings.warn(\"FP16 is not supported on CPU; using FP32 instead\")\n"
          ]
        },
        {
          "output_type": "stream",
          "name": "stdout",
          "text": [
            "\n",
            "Transcription Result:\n",
            " better change. I'm going to be doing this. I'm going to be doing this. I'm going to be doing this. I'm going to be doing this. I'm going to be doing this. I'm going to be doing this. I'm going to be doing this. I'm going to be doing this. I'm going to be doing this. I'm going to be doing this. I'm going to be doing this. I'm going to be doing this. I'm going to be doing this. I'm going to be doing this. I'm going to be doing this. I'm going to be doing this. I'm going to be doing this. I'm going to be doing this. I'm going to be doing this. I'm going to be doing this. I'm going to be doing this. I'm going to be doing this. I'm going to be doing this. I'm going to be doing this. I'm going to be doing this. I'm going to be doing this. I'm going to be doing this. I'm going to be doing this. I'm going to be doing this. I'm going to be doing this. I'm going to be doing this. I'm going to be doing this. I'm going to be doing this. I'm going to be doing this. I'm going to be doing this. I'm going to be doing this. I'm going to be doing this. I'm going to be doing this. I'm going to be doing this. I'm going to be doing this. I'm going to be doing this. I'm going to be doing this. I'm going to be doing this. I'm going to be doing this. I'm going to be doing this. I'm going to be doing this. I'm going to be doing this. I'm going to be doing this. I'm going to be doing this. I'm going to be doing this. I'm going to be doing this. I'm going to be doing this. I'm going to be doing this. I'm going to be doing this. I'm going to be doing this. I'm going to be doing this. I'm going to be doing this. I'm going to be doing this. I'm going to be doing this. I'm going to be doing this. I'm going to be doing this. I'm going to be doing this. I'm going to be doing this. I'm going to be doing this. I'm going to be doing this. I'm going to be doing this. I'm going to be doing this. I'm going to be doing this. I'm going to be doing this. I'm going to be doing this. I'm going to be doing this. I'm going to be doing this. I'm going to be doing this. I'm going to be doing this. I'm going to be doing this. I'm going to be doing this. I'm going to be doing this. I'm going to be doing this. I'm going to be doing this. I'm going to be doing this. I'm going to be doing this. I'm going to be doing this. I'm going to be doing this. I'm going to be doing this. I'm going to be doing this. I'm going to be doing this. I'm going to be doing this. I'm going to be doing this. I'm going to be doing this. I'm going to be doing this. I'm going to be doing this. I'm going to be doing this. I'm going to be doing this. I'm going to be doing this. I'm going to be doing this. I'm going to be doing this. I'm going to be doing this. I'm going to be doing this. I'm going to be doing this. I'm going to be doing this. I'm going to be doing this. I'm going to be doing this. I'm going to be doing this. I'm going to be doing this. I'm going to be doing this. I'm going to be doing this. I'm going to be doing this. I'm going to be doing this. I'm going to be doing this. I'm going to be doing this. I'm going to be doing this. I'm going to be doing this. I'm going to be doing this. I'm going to be doing this. I'm going to be doing this. I'm going to be doing this. I'm going to be doing this. I'm going to be doing this. I'm going to be doing this. I'm going to be doing this. I'm going to be doing this. I'm going to be doing this. I'm going to be doing this. I'm going to be doing this. I'm going to be doing this. I'm going to be doing this. I'm going to be doing this. I'm going to be doing this. I'm going to be doing this. I'm going to be doing this. I'm going to be doing this. I'm going to be doing this. I'm going to be doing this. I'm going to be doing this. I'm going to be doing this. I'm going to be doing this. I'm going to be doing this. I'm going to be doing this. I'm going to be doing this. I'm going to be doing this. I'm going to be doing this. I'm going to be doing this. I'm going to be doing this. I'm going to be doing this. I'm going to be doing this. I'm going to be doing this. I'm going to be doing this. I'm going to be doing this. I'm going to be doing this. I'm going to be doing this. I'm going to be doing this. I'm going to be doing this. I'm going to be doing this. I'm going to be doing this. I'm going to be doing this. I'm going to be doing this. I'm going to be doing this. I'm going to be doing this. I'm going to be doing this. I'm going to be doing this. I'm going to be doing this. I'm going to be doing this. I'm going to be doing this. I'm going to be doing this. I'm going to be doing this. I'm going to be doing this. I'm going to be doing this. I'm going to be doing this. I'm going to be doing this. I'm going to be doing this. I'm going to be doing this. I'm going to be doing this.\n"
          ]
        }
      ]
    },
    {
      "cell_type": "code",
      "source": [
        "!pip install -q openai-whisper pydub\n",
        "!apt-get install -qq ffmpeg\n",
        "\n",
        "import whisper\n",
        "from pydub import AudioSegment\n",
        "import os\n",
        "from urllib.request import urlretrieve\n",
        "from io import BytesIO\n",
        "\n",
        "# Load Whisper model\n",
        "model = whisper.load_model(\"base\")\n",
        "\n",
        "def convert_to_wav(mp3_path, wav_path):\n",
        "    \"\"\"Convert MP3 to WAV format\"\"\"\n",
        "    try:\n",
        "        audio = AudioSegment.from_mp3(mp3_path)\n",
        "        audio.export(wav_path, format=\"wav\")\n",
        "        return True\n",
        "    except Exception as e:\n",
        "        print(f\"Conversion failed: {str(e)}\")\n",
        "        return False\n",
        "\n",
        "def transcribe_audio(audio_path):\n",
        "    \"\"\"Transcribe an audio file using Whisper\"\"\"\n",
        "    try:\n",
        "        result = model.transcribe(audio_path)\n",
        "        return result[\"text\"]\n",
        "    except Exception as e:\n",
        "        print(f\"Transcription failed: {str(e)}\")\n",
        "        return None\n",
        "\n",
        "# Download sample MP3\n",
        "mp3_url = \"https://drive.google.com/file/d/10u1po6apL3H6aW5Y2dU4y18r2k_62Pmy/view?usp=sharing\"\n",
        "mp3_filename = \"/content/Catching Up With Friends Audio 2.mp3\"\n",
        "wav_filename = \"converted.wav\"\n",
        "\n",
        "try:\n",
        "    print(\"Downloading sample audio...\")\n",
        "    urlretrieve(mp3_url, mp3_filename)\n",
        "\n",
        "    if os.path.exists(mp3_filename):\n",
        "        print(\"Converting to WAV...\")\n",
        "        if convert_to_wav(mp3_filename, wav_filename):\n",
        "            print(\"Transcribing audio...\")\n",
        "            transcription = transcribe_audio(wav_filename)\n",
        "\n",
        "            if transcription:\n",
        "                print(\"\\nTranscription Result:\")\n",
        "                print(transcription)\n",
        "            else:\n",
        "                print(\"Transcription returned empty result.\")\n",
        "    else:\n",
        "        print(\"Failed to download audio file.\")\n",
        "except Exception as e:\n",
        "    print(f\"Error: {str(e)}\")"
      ],
      "metadata": {
        "colab": {
          "base_uri": "https://localhost:8080/"
        },
        "id": "1wjG-NTzFN1W",
        "outputId": "bcd931f2-c96d-4f43-e32c-066d0abc6d4b"
      },
      "execution_count": 9,
      "outputs": [
        {
          "output_type": "stream",
          "name": "stdout",
          "text": [
            "Downloading sample audio...\n",
            "Converting to WAV...\n",
            "Conversion failed: Decoding failed. ffmpeg returned error code: 1\n",
            "\n",
            "Output from ffmpeg/avlib:\n",
            "\n",
            "ffmpeg version 4.4.2-0ubuntu0.22.04.1 Copyright (c) 2000-2021 the FFmpeg developers\n",
            "  built with gcc 11 (Ubuntu 11.2.0-19ubuntu1)\n",
            "  configuration: --prefix=/usr --extra-version=0ubuntu0.22.04.1 --toolchain=hardened --libdir=/usr/lib/x86_64-linux-gnu --incdir=/usr/include/x86_64-linux-gnu --arch=amd64 --enable-gpl --disable-stripping --enable-gnutls --enable-ladspa --enable-libaom --enable-libass --enable-libbluray --enable-libbs2b --enable-libcaca --enable-libcdio --enable-libcodec2 --enable-libdav1d --enable-libflite --enable-libfontconfig --enable-libfreetype --enable-libfribidi --enable-libgme --enable-libgsm --enable-libjack --enable-libmp3lame --enable-libmysofa --enable-libopenjpeg --enable-libopenmpt --enable-libopus --enable-libpulse --enable-librabbitmq --enable-librubberband --enable-libshine --enable-libsnappy --enable-libsoxr --enable-libspeex --enable-libsrt --enable-libssh --enable-libtheora --enable-libtwolame --enable-libvidstab --enable-libvorbis --enable-libvpx --enable-libwebp --enable-libx265 --enable-libxml2 --enable-libxvid --enable-libzimg --enable-libzmq --enable-libzvbi --enable-lv2 --enable-omx --enable-openal --enable-opencl --enable-opengl --enable-sdl2 --enable-pocketsphinx --enable-librsvg --enable-libmfx --enable-libdc1394 --enable-libdrm --enable-libiec61883 --enable-chromaprint --enable-frei0r --enable-libx264 --enable-shared\n",
            "  libavutil      56. 70.100 / 56. 70.100\n",
            "  libavcodec     58.134.100 / 58.134.100\n",
            "  libavformat    58. 76.100 / 58. 76.100\n",
            "  libavdevice    58. 13.100 / 58. 13.100\n",
            "  libavfilter     7.110.100 /  7.110.100\n",
            "  libswscale      5.  9.100 /  5.  9.100\n",
            "  libswresample   3.  9.100 /  3.  9.100\n",
            "  libpostproc    55.  9.100 / 55.  9.100\n",
            "[mp3 @ 0x581e826f9040] Failed to read frame size: Could not seek to 34831.\n",
            "/content/Catching Up With Friends Audio 2.mp3: Invalid argument\n",
            "\n"
          ]
        }
      ]
    },
    {
      "cell_type": "code",
      "source": [
        "# Install required packages\n",
        "!pip install -q openai-whisper pydub\n",
        "!apt-get install -qq ffmpeg\n",
        "\n",
        "import whisper\n",
        "from pydub import AudioSegment\n",
        "import os\n",
        "import requests\n",
        "from io import BytesIO\n",
        "\n",
        "# Load Whisper model (using 'tiny' for faster results in Colab)\n",
        "model = whisper.load_model(\"tiny\")\n",
        "\n",
        "def download_audio(url, filename):\n",
        "    \"\"\"Download audio file with error handling\"\"\"\n",
        "    try:\n",
        "        response = requests.get(url)\n",
        "        response.raise_for_status()\n",
        "        with open(filename, 'wb') as f:\n",
        "            f.write(response.content)\n",
        "        return True\n",
        "    except Exception as e:\n",
        "        print(f\"Download failed: {str(e)}\")\n",
        "        return False\n",
        "\n",
        "def convert_to_wav(input_path, output_path):\n",
        "    \"\"\"Convert audio to WAV format with robust error handling\"\"\"\n",
        "    try:\n",
        "        # Try multiple audio formats\n",
        "        for fmt in ['mp3', 'wav', 'ogg']:\n",
        "            try:\n",
        "                audio = AudioSegment.from_file(input_path, format=fmt)\n",
        "                audio.export(output_path, format=\"wav\")\n",
        "                return True\n",
        "            except:\n",
        "                continue\n",
        "        print(\"Failed to convert: Unsupported audio format\")\n",
        "        return False\n",
        "    except Exception as e:\n",
        "        print(f\"Conversion error: {str(e)}\")\n",
        "        return False\n",
        "\n",
        "def transcribe_audio(audio_path):\n",
        "    \"\"\"Transcribe audio with error handling\"\"\"\n",
        "    try:\n",
        "        result = model.transcribe(audio_path)\n",
        "        return result[\"text\"]\n",
        "    except Exception as e:\n",
        "        print(f\"Transcription failed: {str(e)}\")\n",
        "        return None\n",
        "\n",
        "# Using a reliable test audio URL (short English speech)\n",
        "audio_url = \"https://www2.cs.uic.edu/~i101/SoundFiles/gettysburg10.wav\"\n",
        "input_filename = \"input_audio\"\n",
        "output_filename = \"output.wav\"\n",
        "\n",
        "# Download and process\n",
        "if download_audio(audio_url, input_filename):\n",
        "    if convert_to_wav(input_filename, output_filename):\n",
        "        transcription = transcribe_audio(output_filename)\n",
        "        if transcription:\n",
        "            print(\"\\nSuccessful Transcription:\")\n",
        "            print(transcription)\n",
        "        else:\n",
        "            print(\"Transcription failed\")\n",
        "    else:\n",
        "        print(\"Conversion failed\")\n",
        "else:\n",
        "    print(\"Audio download failed\")\n",
        "\n",
        "# Fallback: Use Whisper's built-in audio loading if all else fails\n",
        "if not os.path.exists(output_filename):\n",
        "    print(\"\\nTrying direct Whisper processing...\")\n",
        "    try:\n",
        "        transcription = transcribe_audio(input_filename)\n",
        "        if transcription:\n",
        "            print(\"\\nFallback Transcription:\")\n",
        "            print(transcription)\n",
        "    except:\n",
        "        print(\"All methods failed - please try a different audio file\")"
      ],
      "metadata": {
        "colab": {
          "base_uri": "https://localhost:8080/"
        },
        "id": "Yl0rgceVaaCn",
        "outputId": "258eb472-bd6c-4805-dd49-e374268a353b"
      },
      "execution_count": 10,
      "outputs": [
        {
          "output_type": "stream",
          "name": "stderr",
          "text": [
            "100%|█████████████████████████████████████| 72.1M/72.1M [00:01<00:00, 60.9MiB/s]\n"
          ]
        },
        {
          "output_type": "stream",
          "name": "stdout",
          "text": [
            "Download failed: HTTPSConnectionPool(host='www2.cs.uic.edu', port=443): Max retries exceeded with url: /~i101/SoundFiles/gettysburg10.wav (Caused by ConnectTimeoutError(<urllib3.connection.HTTPSConnection object at 0x7e316a9ac6d0>, 'Connection to www2.cs.uic.edu timed out. (connect timeout=None)'))\n",
            "Audio download failed\n",
            "\n",
            "Trying direct Whisper processing...\n"
          ]
        },
        {
          "output_type": "stream",
          "name": "stderr",
          "text": [
            "/usr/local/lib/python3.11/dist-packages/whisper/transcribe.py:126: UserWarning: FP16 is not supported on CPU; using FP32 instead\n",
            "  warnings.warn(\"FP16 is not supported on CPU; using FP32 instead\")\n"
          ]
        },
        {
          "output_type": "stream",
          "name": "stdout",
          "text": [
            "Transcription failed: Failed to load audio: ffmpeg version 4.4.2-0ubuntu0.22.04.1 Copyright (c) 2000-2021 the FFmpeg developers\n",
            "  built with gcc 11 (Ubuntu 11.2.0-19ubuntu1)\n",
            "  configuration: --prefix=/usr --extra-version=0ubuntu0.22.04.1 --toolchain=hardened --libdir=/usr/lib/x86_64-linux-gnu --incdir=/usr/include/x86_64-linux-gnu --arch=amd64 --enable-gpl --disable-stripping --enable-gnutls --enable-ladspa --enable-libaom --enable-libass --enable-libbluray --enable-libbs2b --enable-libcaca --enable-libcdio --enable-libcodec2 --enable-libdav1d --enable-libflite --enable-libfontconfig --enable-libfreetype --enable-libfribidi --enable-libgme --enable-libgsm --enable-libjack --enable-libmp3lame --enable-libmysofa --enable-libopenjpeg --enable-libopenmpt --enable-libopus --enable-libpulse --enable-librabbitmq --enable-librubberband --enable-libshine --enable-libsnappy --enable-libsoxr --enable-libspeex --enable-libsrt --enable-libssh --enable-libtheora --enable-libtwolame --enable-libvidstab --enable-libvorbis --enable-libvpx --enable-libwebp --enable-libx265 --enable-libxml2 --enable-libxvid --enable-libzimg --enable-libzmq --enable-libzvbi --enable-lv2 --enable-omx --enable-openal --enable-opencl --enable-opengl --enable-sdl2 --enable-pocketsphinx --enable-librsvg --enable-libmfx --enable-libdc1394 --enable-libdrm --enable-libiec61883 --enable-chromaprint --enable-frei0r --enable-libx264 --enable-shared\n",
            "  libavutil      56. 70.100 / 56. 70.100\n",
            "  libavcodec     58.134.100 / 58.134.100\n",
            "  libavformat    58. 76.100 / 58. 76.100\n",
            "  libavdevice    58. 13.100 / 58. 13.100\n",
            "  libavfilter     7.110.100 /  7.110.100\n",
            "  libswscale      5.  9.100 /  5.  9.100\n",
            "  libswresample   3.  9.100 /  3.  9.100\n",
            "  libpostproc    55.  9.100 / 55.  9.100\n",
            "input_audio: No such file or directory\n",
            "\n"
          ]
        }
      ]
    }
  ]
}